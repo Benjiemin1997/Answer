{
 "cells": [
  {
   "cell_type": "code",
   "execution_count": 1,
   "metadata": {},
   "outputs": [],
   "source": [
    "import json\n",
    "f = open(\"/home/zeng/download/boxes.json\",'r',encoding='utf-8')"
   ]
  },
  {
   "cell_type": "code",
   "execution_count": 2,
   "metadata": {},
   "outputs": [
    {
     "name": "stdout",
     "output_type": "stream",
     "text": [
      "{'boxes': [{'name': 'box_a', 'rectangle': {'left_top': [0, 10], 'right_bottom': [200, 300]}}, {'name': 'box_b', 'rectangle': {'left_top': [100, 100], 'right_bottom': [200, 300]}}]}\n"
     ]
    }
   ],
   "source": [
    "train_json = json.load(f)\n",
    "print(train_json)\n",
    "tmp_list = []"
   ]
  },
  {
   "cell_type": "code",
   "execution_count": 3,
   "metadata": {},
   "outputs": [],
   "source": [
    "def _get_value(key, val, tmp_list):\n",
    "    for val_ in val:\n",
    "        if isinstance(val_, dict):  \n",
    "            get_target_value(key, val_, tmp_list)  \n",
    "        elif isinstance(val_, (list, tuple)):\n",
    "            _get_value(key, val_, tmp_list)    "
   ]
  },
  {
   "cell_type": "code",
   "execution_count": 4,
   "metadata": {},
   "outputs": [],
   "source": [
    "def get_target_value(key, dic, tmp_list):\n",
    "    if not isinstance(dic, dict) or not isinstance(tmp_list, list): \n",
    "        return 'argv[1] not an dict or argv[-1] not an list '\n",
    "    if key in dic.keys():\n",
    "        tmp_list.append(dic[key]) \n",
    "    else:\n",
    "        for value in dic.values():  \n",
    "            if isinstance(value, dict):\n",
    "                 get_target_value(key, value, tmp_list) \n",
    "            elif isinstance(value, (list, tuple)):\n",
    "                 _get_value(key, value, tmp_list) \n",
    "            elif isjson(value):\n",
    "                value1 = json.loads(value)\n",
    "                get_target_value(key, value1, tmp_list)\n",
    "    return tmp_list"
   ]
  },
  {
   "cell_type": "code",
   "execution_count": 5,
   "metadata": {},
   "outputs": [
    {
     "data": {
      "text/plain": [
       "[{'left_top': [0, 10], 'right_bottom': [200, 300]},\n",
       " {'left_top': [100, 100], 'right_bottom': [200, 300]}]"
      ]
     },
     "execution_count": 5,
     "metadata": {},
     "output_type": "execute_result"
    }
   ],
   "source": [
    "get_target_value('rectangle',train_json,tmp_list)"
   ]
  },
  {
   "cell_type": "code",
   "execution_count": 19,
   "metadata": {},
   "outputs": [],
   "source": [
    "from PIL import Image\n",
    "\n",
    "def Picture_Synthesis(mother_img,\n",
    "                      son_img,\n",
    "                      save_img,\n",
    "                      coordinate=None):\n",
    "\n",
    "    M_Img = Image.open(mother_img)\n",
    "    S_Img = Image.open(son_img)\n",
    "\n",
    "    M_Img_w, M_Img_h = M_Img.size  \n",
    "    #print(\"母图尺寸：\",M_Img.size)\n",
    "    S_Img_w, S_Img_h = S_Img.size\n",
    "    #print(\"子图尺寸：\",S_Img.size)\n",
    "    icon = S_Img.resize((S_Img_w, S_Img_h), Image.ANTIALIAS)\n",
    "    try:\n",
    "        if coordinate==None or coordinate==\"\":\n",
    "            coordinate=(w, h)\n",
    "            # 粘贴子图到母图的指定坐标（当前居中）\n",
    "            M_Img.paste(icon, coordinate, mask=None)\n",
    "        else:\n",
    "            print(\"已经指定坐标\")\n",
    "            # 粘贴子图到母图的指定坐标（当前居中）\n",
    "            M_Img.paste(icon, coordinate, mask=None)\n",
    "    except:\n",
    "        print(\"坐标指定出错 \")\n",
    "    # 保存图片\n",
    "    M_Img.save(save_img)\n",
    "\n"
   ]
  },
  {
   "cell_type": "code",
   "execution_count": 21,
   "metadata": {},
   "outputs": [
    {
     "name": "stdout",
     "output_type": "stream",
     "text": [
      "已经指定坐标\n"
     ]
    }
   ],
   "source": [
    "Picture_Synthesis(mother_img=\"/home/zeng/download/海滩.jpg\",\n",
    "                  son_img=\"/home/zeng/download/女生.jpg\",\n",
    "                  save_img=\"/home/zeng/download/newimg.jpg\",\n",
    "                  coordinate=(100,200)\n",
    "                 )\n"
   ]
  },
  {
   "cell_type": "code",
   "execution_count": null,
   "metadata": {},
   "outputs": [],
   "source": []
  }
 ],
 "metadata": {
  "kernelspec": {
   "display_name": "Python 3",
   "language": "python",
   "name": "python3"
  },
  "language_info": {
   "codemirror_mode": {
    "name": "ipython",
    "version": 3
   },
   "file_extension": ".py",
   "mimetype": "text/x-python",
   "name": "python",
   "nbconvert_exporter": "python",
   "pygments_lexer": "ipython3",
   "version": "3.6.10"
  }
 },
 "nbformat": 4,
 "nbformat_minor": 2
}
